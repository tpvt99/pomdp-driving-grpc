{
 "cells": [
  {
   "cell_type": "code",
   "execution_count": 1,
   "metadata": {},
   "outputs": [],
   "source": [
    "import os\n",
    "import sys\n",
    "import pdb\n",
    "import math\n",
    "import random\n",
    "import argparse\n",
    "import numpy as np\n",
    "import matplotlib\n",
    "import matplotlib.path as mpath\n",
    "import matplotlib.pyplot as plt\n",
    "from common_performance_stats import collect_txt_files, filter_txt_files, parse_data, ade_fde\n",
    "from driving_performance_safety import find_collision_rate, find_near_miss_rate, find_ttc, \\\n",
    "    check_near_miss, get_corners, check_collision, check_collision_by_considering_headings, better_is_near_miss\n",
    "from driving_performance_comfort import find_acceleration_and_jerk\n",
    "from driving_performance_efficiency import efficiency_time_traveled, average_speed, path_tracking_error, distance_traveled\n",
    "import pandas as pd\n",
    "from temporal_consistency_calculation import calculate_consistency"
   ]
  },
  {
   "cell_type": "code",
   "execution_count": 2,
   "metadata": {},
   "outputs": [],
   "source": [
    "%load_ext autoreload\n",
    "%autoreload 2"
   ]
  },
  {
   "cell_type": "code",
   "execution_count": 3,
   "metadata": {},
   "outputs": [],
   "source": [
    "file_path = '/home/phong/driving_data/official/gamma_planner/ca_new/result/gamma_drive_mode/magic/pomdp_search_log-0_0_pid-56_r-6036439.txt'\n"
   ]
  },
  {
   "cell_type": "code",
   "execution_count": 4,
   "metadata": {},
   "outputs": [],
   "source": [
    "action_list, ego_list, ego_path_list, exos_list, coll_bool_list, \\\n",
    "        pred_car_list, pred_exo_list, trial_list, depth_list, expanded_nodes, total_nodes, gamma_time = parse_data(file_path)\n"
   ]
  },
  {
   "cell_type": "code",
   "execution_count": 6,
   "metadata": {},
   "outputs": [
    {
     "name": "stdout",
     "output_type": "stream",
     "text": [
      "{'pos': [217.55882, 170.22578], 'heading': 1.79945, 'speed': 3.05101, 'vel': (-0.6915615877929162, 2.971599668594231), 'bb': (1.97403, 3.80221)}\n",
      "{'id': 104, 'pos': [211.437, 172.842], 'heading': 0.557, 'vel': [0.641, 0.749], 'bb': (3.216, 5.8)}\n",
      "Collision False | True | False | False\n",
      "[[218.95106212 218.0892287  216.16657788 217.0284113  218.95106212]\n",
      " [168.5978793  172.30112706 171.8536807  168.15043294 168.5978793 ]]\n",
      "[[218.95106212 168.5978793 ]\n",
      " [218.0892287  172.30112706]\n",
      " [216.16657788 171.8536807 ]\n",
      " [217.0284113  168.15043294]\n",
      " [218.95106212 168.5978793 ]]\n",
      "[[209.82540633 214.74870649 213.04859367 208.12529351 209.82540633]\n",
      " [169.94399554 173.01011941 175.74000446 172.67388059 169.94399554]]\n",
      "[[209.82540633 169.94399554]\n",
      " [214.74870649 173.01011941]\n",
      " [213.04859367 175.74000446]\n",
      " [208.12529351 172.67388059]\n",
      " [209.82540633 169.94399554]]\n"
     ]
    },
    {
     "name": "stderr",
     "output_type": "stream",
     "text": [
      "/tmp/ipykernel_1501404/3928510162.py:20: MatplotlibDeprecationWarning: Passing the closed parameter of __init__() positionally is deprecated since Matplotlib 3.6; the parameter will become keyword-only two minor releases later.\n",
      "  polygon = Polygon(outline_translated.T, True, color=color)\n"
     ]
    },
    {
     "data": {
      "image/png": "[encoded data removed]",
      "text/plain": [
       "<Figure size 640x480 with 1 Axes>"
      ]
     },
     "metadata": {},
     "output_type": "display_data"
    }
   ],
   "source": [
    "import numpy as np\n",
    "import matplotlib.pyplot as plt\n",
    "from matplotlib.patches import Polygon\n",
    "from matplotlib.collections import PatchCollection\n",
    "\n",
    "def plot_vehicle1(ax, x, y, yaw, width, length, color='b'):\n",
    "    outline = np.array([[-length / 2, -width / 2],\n",
    "                        [length / 2, -width / 2],\n",
    "                        [length / 2, width / 2],\n",
    "                        [-length / 2, width / 2],\n",
    "                        [-length / 2, -width / 2]]).T\n",
    "\n",
    "    rot_matrix = np.array([[np.cos(yaw), -np.sin(yaw)],\n",
    "                           [np.sin(yaw), np.cos(yaw)]])\n",
    "    outline_rotated = np.dot(rot_matrix, outline)\n",
    "    outline_translated = outline_rotated + np.array([[x], [y]])\n",
    "    print(outline_translated)\n",
    "    print(outline_translated.T)\n",
    "\n",
    "    polygon = Polygon(outline_translated.T, True, color=color)\n",
    "    ax.add_patch(polygon)\n",
    "\n",
    "\n",
    "# Define the ego agent and exo agent parameters\n",
    "\n",
    "ego_at_collision = ego_list[41]\n",
    "all_exo_id_at_t = [o['id'] for o in exos_list[41]]\n",
    "exo_at_collision = exos_list[41][all_exo_id_at_t.index(104)] # 41 is timestep, 104 is agent id\n",
    "ego_x, ego_y, ego_yaw, ego_width, ego_length = ego_at_collision['pos'][0], ego_at_collision['pos'][1], \\\n",
    "                            ego_at_collision['heading'], ego_at_collision['bb'][0], ego_at_collision['bb'][1]\n",
    "exo_x, exo_y, exo_yaw, exo_width, exo_length = exo_at_collision['pos'][0], exo_at_collision['pos'][1], \\\n",
    "            exo_at_collision['heading'], exo_at_collision['bb'][0], exo_at_collision['bb'][1]\n",
    "\n",
    "print(ego_at_collision)\n",
    "print(exo_at_collision)\n",
    "# Check for collision\n",
    "collision1 = check_near_miss(ego_at_collision, exo_at_collision, 0.5)\n",
    "collision2 = check_collision(ego_at_collision, exo_at_collision)\n",
    "collision3 = check_collision_by_considering_headings(ego_at_collision, exo_at_collision)\n",
    "collision4 = better_is_near_miss(ego_at_collision, exo_at_collision)\n",
    "print(f\"Collision {collision1} | {collision2} | {collision3} | {collision4}\")\n",
    "\n",
    "\n",
    "# Plot the agents\n",
    "fig, ax = plt.subplots()\n",
    "plot_vehicle1(ax, ego_x, ego_y, ego_yaw, ego_width, ego_length, 'b')\n",
    "plot_vehicle1(ax, exo_x, exo_y, exo_yaw, exo_width, exo_length, 'r')\n",
    "\n",
    "ax.set_xlim(min(exo_x, ego_x)-30, max(exo_x, ego_x)+30)\n",
    "ax.set_ylim(min(exo_y, ego_y)-30, max(exo_y, ego_y)+30)\n",
    "ax.set_aspect('equal', adjustable='box')\n",
    "ax.set_title('Collision' if collision1 else 'No Collision')\n",
    "plt.grid(True)\n",
    "plt.show()\n"
   ]
  },
  {
   "cell_type": "code",
   "execution_count": 11,
   "metadata": {},
   "outputs": [
    {
     "name": "stdout",
     "output_type": "stream",
     "text": [
      "{'pos': [217.55882, 170.22578], 'heading': 1.79945, 'speed': 3.05101, 'vel': (-0.6915615877929162, 2.971599668594231), 'bb': (1.97403, 3.80221)}\n",
      "{'id': 104, 'pos': [211.437, 172.842], 'heading': 0.557, 'vel': [0.641, 0.749], 'bb': (3.216, 5.8)}\n",
      "Simple collision: True, complicated collision: False\n",
      " heading 1.79945\n",
      "[[217.02841129778778, 168.15043293508106], [216.16657787714277, 171.85368070415612], [218.0892287022122, 172.30112706491892], [218.95106212285722, 168.59787929584385]]\n",
      " heading 0.557\n",
      "[[208.12529351167052, 172.6738805925646], [213.0485936681864, 175.74000445973806], [214.7487064883295, 173.01011940743544], [209.8254063318136, 169.94399554026197]]\n"
     ]
    },
    {
     "name": "stderr",
     "output_type": "stream",
     "text": [
      "/tmp/ipykernel_1501404/850808337.py:34: MatplotlibDeprecationWarning: Passing the closed parameter of __init__() positionally is deprecated since Matplotlib 3.6; the parameter will become keyword-only two minor releases later.\n",
      "  polygon = Polygon(np.array(ego_corners), True, color=color)\n"
     ]
    },
    {
     "data": {
      "image/png": "[encoded data removed]",
      "text/plain": [
       "<Figure size 640x480 with 1 Axes>"
      ]
     },
     "metadata": {},
     "output_type": "display_data"
    }
   ],
   "source": [
    "import numpy as np\n",
    "import matplotlib.pyplot as plt\n",
    "from matplotlib.patches import Polygon\n",
    "from matplotlib.collections import PatchCollection\n",
    "\n",
    "def plot_vehicle(ax, agent, color='b'):\n",
    "\n",
    "    width, length = agent['bb']\n",
    "    x, y = agent['pos']\n",
    "    heading = agent['heading']\n",
    "\n",
    "    dx = length / 2\n",
    "    dy = width / 2\n",
    "\n",
    "    corners = [[x - dx, y + dy],\n",
    "        [x + dx, y + dy],\n",
    "        [x + dx, y - dy],\n",
    "        [x - dx, y - dy],\n",
    "    ]\n",
    "\n",
    "    print(f' heading {heading}')\n",
    "\n",
    "    # Rotate corners based on heading\n",
    "    rotated_corners = []\n",
    "    for corner in corners:\n",
    "        x_diff = corner[0] - x\n",
    "        y_diff = corner[1] - y\n",
    "        new_x = x + (x_diff * np.cos(heading) - y_diff * np.sin(heading))\n",
    "        new_y = y + (x_diff * np.sin(heading) + y_diff * np.cos(heading))\n",
    "        rotated_corners.append([new_x, new_y])\n",
    "\n",
    "    print(rotated_corners)\n",
    "    ego_corners = rotated_corners\n",
    "    polygon = Polygon(np.array(ego_corners), True, color=color)\n",
    "    ax.add_patch(polygon)\n",
    "\n",
    "# Define the ego agent and exo agent parameters\n",
    "\n",
    "ego_at_collision = ego_list[41]\n",
    "all_exo_id_at_t = [o['id'] for o in exos_list[41]]\n",
    "exo_at_collision = exos_list[41][all_exo_id_at_t.index(104)] # 41 is timestep, 104 is agent id\n",
    "ego_x, ego_y, ego_yaw, ego_width, ego_length = ego_at_collision['pos'][0], ego_at_collision['pos'][1], \\\n",
    "                            ego_at_collision['heading'], ego_at_collision['bb'][0], ego_at_collision['bb'][1]\n",
    "exo_x, exo_y, exo_yaw, exo_width, exo_length = exo_at_collision['pos'][0], exo_at_collision['pos'][1], \\\n",
    "            exo_at_collision['heading'], exo_at_collision['bb'][0], exo_at_collision['bb'][1]\n",
    "\n",
    "print(ego_at_collision)\n",
    "print(exo_at_collision)\n",
    "# Check for collision\n",
    "collision = check_collision(ego_at_collision, exo_at_collision)\n",
    "collision_by_considering_headings = check_collision_by_considering_headings(ego_at_collision, exo_at_collision)\n",
    "print(f\"Simple collision: {collision}, complicated collision: {collision_by_considering_headings}\")\n",
    "# Plot the agents\n",
    "fig, ax = plt.subplots()\n",
    "plot_vehicle(ax, ego_at_collision, 'b')\n",
    "plot_vehicle(ax, exo_at_collision, 'r')\n",
    "\n",
    "ax.set_xlim(min(exo_x, ego_x)-30, max(exo_x, ego_x)+30)\n",
    "ax.set_ylim(min(exo_y, ego_y)-30, max(exo_y, ego_y)+30)\n",
    "ax.set_aspect('equal', adjustable='box')\n",
    "ax.set_title('Collision' if collision else 'No Collision')\n",
    "plt.grid(True)\n",
    "plt.show()\n"
   ]
  },
  {
   "cell_type": "code",
   "execution_count": null,
   "metadata": {},
   "outputs": [],
   "source": []
  }
 ],
 "metadata": {
  "kernelspec": {
   "display_name": "temp",
   "language": "python",
   "name": "python3"
  },
  "language_info": {
   "codemirror_mode": {
    "name": "ipython",
    "version": 3
   },
   "file_extension": ".py",
   "mimetype": "text/x-python",
   "name": "python",
   "nbconvert_exporter": "python",
   "pygments_lexer": "ipython3",
   "version": "3.9.0"
  },
  "orig_nbformat": 4
 },
 "nbformat": 4,
 "nbformat_minor": 2
}
